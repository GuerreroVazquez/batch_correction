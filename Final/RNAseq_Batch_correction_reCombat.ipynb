{
 "cells": [
  {
   "cell_type": "code",
   "execution_count": 1,
   "id": "d4572eb3-8357-4274-8711-2e523e5306cb",
   "metadata": {},
   "outputs": [
    {
     "ename": "ModuleNotFoundError",
     "evalue": "No module named 'reComBat'",
     "output_type": "error",
     "traceback": [
      "\u001b[0;31m---------------------------------------------------------------------------\u001b[0m",
      "\u001b[0;31mModuleNotFoundError\u001b[0m                       Traceback (most recent call last)",
      "Cell \u001b[0;32mIn[1], line 7\u001b[0m\n\u001b[1;32m      4\u001b[0m \u001b[38;5;28;01mimport\u001b[39;00m \u001b[38;5;21;01mmatplotlib\u001b[39;00m\u001b[38;5;21;01m.\u001b[39;00m\u001b[38;5;21;01mpyplot\u001b[39;00m \u001b[38;5;28;01mas\u001b[39;00m \u001b[38;5;21;01mplt\u001b[39;00m\n\u001b[1;32m      5\u001b[0m \u001b[38;5;28;01mfrom\u001b[39;00m \u001b[38;5;21;01mmatplotlib\u001b[39;00m\u001b[38;5;21;01m.\u001b[39;00m\u001b[38;5;21;01mcolors\u001b[39;00m \u001b[38;5;28;01mimport\u001b[39;00m ListedColormap\n\u001b[0;32m----> 7\u001b[0m \u001b[38;5;28;01mfrom\u001b[39;00m \u001b[38;5;21;01mreComBat\u001b[39;00m \u001b[38;5;28;01mimport\u001b[39;00m reComBat\n",
      "\u001b[0;31mModuleNotFoundError\u001b[0m: No module named 'reComBat'"
     ]
    }
   ],
   "source": [
    "import numpy as np\n",
    "import pandas as pd\n",
    "from sklearn.cluster import SpectralClustering\n",
    "import matplotlib.pyplot as plt\n",
    "from matplotlib.colors import ListedColormap\n",
    "\n",
    "from reComBat import reComBat\n"
   ]
  },
  {
   "cell_type": "code",
   "execution_count": null,
   "id": "c16c2b46-28b5-43a0-b608-42946c6ed9d1",
   "metadata": {},
   "outputs": [],
   "source": [
    "#technology = \"microarray\" # \"RNAseq\"\n",
    "technology = \"RNAseq\" #microarray"
   ]
  },
  {
   "cell_type": "code",
   "execution_count": null,
   "id": "e170f35a-6a83-400b-87b3-5c7c1cef66bb",
   "metadata": {},
   "outputs": [],
   "source": [
    "\n",
    "# Assuming your DataFrame is called cts and has gene expression data\n",
    "# Assuming cts is a pandas DataFrame with gene expression data\n",
    "if technology == \"microarray\":\n",
    "    cts = pd.read_csv(\"/home/karen/Documents/phd/Data/trainign_dataset_51270_microarray_unadjusted.csv\")\n",
    "elif technology == \"RNAseq\":\n",
    "    cts = pd.read_csv(\"/home/karen/Documents/GitHub/Test_DEG_methods-single_cell/batch_correction/RNAseq_All_abundances_unadjusted.csv\")\n",
    "\n",
    "metadata =   cts[[\"Experiment\", \"Sample\", \"Age\"]]\n"
   ]
  },
  {
   "cell_type": "code",
   "execution_count": null,
   "id": "5049c0cc-9c14-4c91-a0a4-1d8fa1668668",
   "metadata": {},
   "outputs": [],
   "source": [
    "metadata"
   ]
  },
  {
   "cell_type": "markdown",
   "id": "73d55221-41c1-4e28-becb-a4741dceadc2",
   "metadata": {},
   "source": [
    "# Function"
   ]
  },
  {
   "cell_type": "code",
   "execution_count": null,
   "id": "dc8c4d9b-72f2-4ba0-afc3-690dfccfd3ab",
   "metadata": {},
   "outputs": [],
   "source": [
    "import matplotlib.pyplot as plt\n",
    "\n",
    "def generate_colors(n):\n",
    "        colormap = plt.cm.get_cmap('tab20', n)\n",
    "        colors = [colormap(i) for i in range(n)]\n",
    "        return colors\n",
    "    \n",
    "def blot_expression(subset_data, experiments, count_experiments, colors=None, title=None, save=False):\n",
    "    \n",
    "    if colors is None:\n",
    "        colors = generate_colors(len(experiments))\n",
    "    colored = np.sum(list(count_experiments.values()))\n",
    "    if len(subset_data.columns) != colored:\n",
    "        raise \"the columns and the experiments should be same length\"\n",
    "        return None\n",
    "    if len(count_experiments) != len(experiments):\n",
    "        raise \"the count_experiments and the experiments should be same length\"\n",
    "        return None\n",
    "    if title is None:\n",
    "        title = 'Expression of Gene Expression Across Experiments'\n",
    "    boxes=[]\n",
    "    # Create a figure and axes\n",
    "    fig, ax = plt.subplots(figsize=(10, 6))\n",
    "    start_c = 0\n",
    "    end_c = len(subset_data.columns)\n",
    "    color_i = 0\n",
    "    for exp in experiments:\n",
    "        end_c=start_c + count_experiments[exp]\n",
    "        # Boxplot for the first 84 columns\n",
    "        box= ax.boxplot(subset_data.iloc[:, start_c:end_c], positions=list(range(start_c+1,end_c+1)), showfliers=False, patch_artist=True,\n",
    "                          boxprops=dict(facecolor=colors[color_i], color=colors[color_i])\n",
    "                          )\n",
    "        start_c = end_c\n",
    "        boxes.append(box)\n",
    "        color_i=color_i+1\n",
    "                          \n",
    "    \n",
    "    # Set labels and titles\n",
    "    ax.set_title(title)\n",
    "    ax.set_ylabel('Expression')\n",
    "    \n",
    "    # Adjust legend\n",
    "    legends_list = [b[\"boxes\"][0] for b in boxes]\n",
    "    ax.legend(legends_list, experiments)\n",
    "    \n",
    "    plt.tight_layout()\n",
    "    if save:\n",
    "        plt.savefig(save)\n",
    "    plt.show()\n"
   ]
  },
  {
   "cell_type": "code",
   "execution_count": null,
   "id": "772cbe2f-2dc8-4c6d-86fd-c507b9bf2bd6",
   "metadata": {},
   "outputs": [],
   "source": [
    "cts"
   ]
  },
  {
   "cell_type": "code",
   "execution_count": null,
   "id": "82c16042-e004-4135-ab96-912c116a6c08",
   "metadata": {},
   "outputs": [],
   "source": [
    "sample_order = cts[\"Sample\"].tolist()  # Get the order of samples in cts\n",
    "experiment_order = cts[\"Experiment\"].tolist() \n",
    "age_order = cts[\"Age\"].tolist()\n"
   ]
  },
  {
   "cell_type": "code",
   "execution_count": null,
   "id": "bf1e1885-10e5-4439-9a3b-0ce407419cfa",
   "metadata": {},
   "outputs": [],
   "source": [
    "df =pd.DataFrame(experiment_order)\n",
    "count_experiments = dict(df[0].value_counts())\n",
    "count_experiments\n",
    "experiments = list(count_experiments)\n",
    "experiments"
   ]
  },
  {
   "cell_type": "code",
   "execution_count": null,
   "id": "581e08f8-3086-4a22-9c1a-77c2f3db1899",
   "metadata": {},
   "outputs": [],
   "source": [
    "def map_to_category(age):\n",
    "    if age <= 35:\n",
    "        return \"Young\"\n",
    "    elif age > 65:\n",
    "        return \"Old\"\n",
    "    else:\n",
    "        return \"MiddleAge\"\n",
    "\n",
    "# Map values in age_order to categories\n",
    "age_order = [map_to_category(age) for age in age_order]"
   ]
  },
  {
   "cell_type": "code",
   "execution_count": null,
   "id": "42cc569d-33cd-40f2-ab39-4bc4bdc94830",
   "metadata": {},
   "outputs": [],
   "source": [
    "cts"
   ]
  },
  {
   "cell_type": "code",
   "execution_count": null,
   "id": "8af322b6-6a26-4f7d-8c10-331aace5bf99",
   "metadata": {},
   "outputs": [],
   "source": [
    "\n",
    "\n",
    "\n",
    "cts_processed = cts.copy()\n",
    "\n",
    "if technology == \"microarray\":\n",
    "    cts_processed.drop(['Age', 'Sex', 'Status', 'Experiment'], axis=1, inplace=True)\n",
    "elif technology == \"RNAseq\":\n",
    "    cts_processed.drop(['Age', 'Sample.1', 'Experiment'], axis=1, inplace=True)\n",
    "\n",
    "samples=cts_processed[\"Sample\"]\n",
    "cts_processed.set_index(\"Sample\",  inplace=True)\n",
    "gene_columns= cts_processed.columns\n"
   ]
  },
  {
   "cell_type": "code",
   "execution_count": null,
   "id": "60093e2f-4fc2-4c95-8619-ab36e8903d44",
   "metadata": {},
   "outputs": [],
   "source": [
    "data = cts_processed.T\n",
    "data"
   ]
  },
  {
   "cell_type": "code",
   "execution_count": null,
   "id": "9f3c6f03-364b-4718-bcae-0fdca6e47651",
   "metadata": {},
   "outputs": [],
   "source": [
    "cts_processed.columns"
   ]
  },
  {
   "cell_type": "code",
   "execution_count": null,
   "id": "b2465295-a98b-4022-9621-532b755d19fa",
   "metadata": {},
   "outputs": [],
   "source": [
    "#!pip install combat"
   ]
  },
  {
   "cell_type": "code",
   "execution_count": null,
   "id": "54999db9-3269-45b5-9d08-df090ba6a7b1",
   "metadata": {},
   "outputs": [],
   "source": [
    "experiment_order= pd.Series(experiment_order)\n"
   ]
  },
  {
   "cell_type": "code",
   "execution_count": null,
   "id": "f9276ccd-39e0-4738-973b-0ca6dcd18678",
   "metadata": {},
   "outputs": [],
   "source": [
    "experiment_order"
   ]
  },
  {
   "cell_type": "code",
   "execution_count": null,
   "id": "4a86c5cd-78dc-4f89-adad-849756663e8c",
   "metadata": {},
   "outputs": [],
   "source": [
    "from sklearn.preprocessing import StandardScaler\n",
    "\n",
    "scaler = StandardScaler()\n",
    "cts_processed = scaler.fit_transform(cts_processed.T)"
   ]
  },
  {
   "cell_type": "code",
   "execution_count": null,
   "id": "e4b911b9-0604-4008-b585-8a03a31a07d8",
   "metadata": {},
   "outputs": [],
   "source": [
    "cts_processed=pd.DataFrame(cts_processed, columns=samples)\n"
   ]
  },
  {
   "cell_type": "code",
   "execution_count": null,
   "id": "15672f0e-f056-42e8-8aaa-d03a373ca15c",
   "metadata": {},
   "outputs": [],
   "source": []
  },
  {
   "cell_type": "code",
   "execution_count": null,
   "id": "ce90f0f4-482d-4a5d-a3ac-d6183a7b31a7",
   "metadata": {},
   "outputs": [],
   "source": [
    "\n",
    "data = (data - data.mean()) / data.std()\n",
    "\n",
    "data.fillna(0, inplace=True)"
   ]
  },
  {
   "cell_type": "code",
   "execution_count": null,
   "id": "3435e961-5fc8-4dbb-92ad-0b106e2970f2",
   "metadata": {},
   "outputs": [],
   "source": [
    "data\n"
   ]
  },
  {
   "cell_type": "code",
   "execution_count": null,
   "id": "15e5711b-5653-4b8c-9f17-87d6bd6bac53",
   "metadata": {},
   "outputs": [],
   "source": [
    "cts_processed.index=gene_columns\n",
    "cts_processed=cts_processed.T\n",
    "cts_processed"
   ]
  },
  {
   "cell_type": "code",
   "execution_count": null,
   "id": "18b02c07-82b5-4111-9a99-b3f1b2c2dea1",
   "metadata": {},
   "outputs": [],
   "source": [
    "cts_processed.fillna(0, inplace=True)"
   ]
  },
  {
   "cell_type": "code",
   "execution_count": null,
   "id": "7ee35ea9-9a9c-4a32-a322-ed74d9b6a08f",
   "metadata": {},
   "outputs": [],
   "source": [
    "combat = reComBat()\n",
    "combat.fit(cts_processed,experiment_order)\n",
    "data_corrected = combat.transform(cts_processed,experiment_order)"
   ]
  },
  {
   "cell_type": "code",
   "execution_count": null,
   "id": "62de90be-394c-412a-810a-577420d22df7",
   "metadata": {},
   "outputs": [],
   "source": [
    "data_corrected.index\n",
    "\n"
   ]
  },
  {
   "cell_type": "code",
   "execution_count": null,
   "id": "92f50586-50c4-4755-8b85-b8c046dd9cbc",
   "metadata": {},
   "outputs": [],
   "source": [
    "metadata.columns"
   ]
  },
  {
   "cell_type": "code",
   "execution_count": null,
   "id": "5333b863-4466-4048-9c5c-66af2f791b4b",
   "metadata": {},
   "outputs": [],
   "source": []
  },
  {
   "cell_type": "code",
   "execution_count": null,
   "id": "bb227a6b-1aae-4d6e-90b6-88f84fd61e0e",
   "metadata": {},
   "outputs": [],
   "source": [
    "colors=['blue', 'green', 'red', 'cyan', 'magenta', 'yellow', 'black', 'white', 'orange', 'purple', 'brown', 'pink', 'gray', 'olive']"
   ]
  },
  {
   "cell_type": "code",
   "execution_count": null,
   "id": "61e779d4-63c1-431f-b6fb-8acf0617d017",
   "metadata": {},
   "outputs": [],
   "source": [
    "\n",
    "blot_expression(data, experiments, count_experiments, colors=colors, save=f\"/home/karen/Documents/phd/Plots/expression_distribution_{technology}_unalteraded__reCombat.png\")\n",
    "\n"
   ]
  },
  {
   "cell_type": "code",
   "execution_count": null,
   "id": "d61f9a63-09f1-4d4d-9de4-c9f27aa364a3",
   "metadata": {},
   "outputs": [],
   "source": [
    "# with standar norm\n",
    "data_corrected"
   ]
  },
  {
   "cell_type": "code",
   "execution_count": null,
   "id": "a8d0fc8e-0c76-43a1-b4a6-66c4c28fe2ab",
   "metadata": {},
   "outputs": [],
   "source": [
    "# with the manual one\n",
    "data_corrected"
   ]
  },
  {
   "cell_type": "code",
   "execution_count": null,
   "id": "433c12c1-eca9-4bbd-8211-4607491af66f",
   "metadata": {},
   "outputs": [],
   "source": [
    "data_corrected = data_corrected.T"
   ]
  },
  {
   "cell_type": "code",
   "execution_count": null,
   "id": "95724bca-0d51-4ed0-9b1b-1e68044f32e5",
   "metadata": {},
   "outputs": [],
   "source": [
    "blot_expression(data_corrected, experiments, count_experiments, colors=colors, save=f\"/home/karen/Documents/phd/Plots/expression_distribution_{technology}_adjusted_reCombat.png\")"
   ]
  },
  {
   "cell_type": "code",
   "execution_count": null,
   "id": "5a8c57c2-84ff-40df-8544-c32b3b33de8e",
   "metadata": {},
   "outputs": [],
   "source": [
    "data_corrected = data_corrected.T\n"
   ]
  },
  {
   "cell_type": "code",
   "execution_count": null,
   "id": "cbf180f8-b47c-43a6-a43f-e3ade0f57fee",
   "metadata": {},
   "outputs": [],
   "source": [
    "#blot_expression(data_corrected, experiments, count_experiments, colors=[\"blue\", \"green\", \"orange\", \"pink\",\"red\",\"purple\"])"
   ]
  },
  {
   "cell_type": "markdown",
   "id": "4899a52e-ee2d-477e-a03a-1c2253743479",
   "metadata": {},
   "source": [
    "# Testing batch correction"
   ]
  },
  {
   "cell_type": "code",
   "execution_count": null,
   "id": "ec134de1-a292-4fd3-858d-0ed5a9bee121",
   "metadata": {},
   "outputs": [],
   "source": [
    "import numpy as np\n",
    "import matplotlib.pyplot as plt\n",
    "from scipy.stats import ks_2samp\n",
    "import matplotlib.pyplot as plt\n",
    "import seaborn as sns\n",
    "from scipy.stats import ttest_ind\n",
    "\n",
    "# Set significance threshold (alpha level)\n",
    "\n",
    "def plot_batch_correction_p_values(p_values_before, p_values_after, alpha = 0.05):\n",
    "    # Plot histograms of p-values before and after batch correction\n",
    "    plt.figure(figsize=(10, 5))\n",
    "    plt.hist(p_values_before, bins=50, color='blue', alpha=0.5, label='Before Correction')\n",
    "    plt.hist(p_values_after, bins=50, color='green', alpha=0.5, label='After Correction')\n",
    "    plt.axvline(alpha, color='red', linestyle='--', label='Significance Threshold')\n",
    "    plt.xlabel('p-value')\n",
    "    plt.ylabel('Frequency')\n",
    "    plt.title('Distribution of p-values before and after batch correction')\n",
    "    plt.legend()\n",
    "    plt.show()\n",
    "    \n",
    "    # Perform Kolmogorov-Smirnov test to compare distributions of p-values\n",
    "    ks_stat, ks_p_value = ks_2samp(p_values_before, p_values_after)\n",
    "    print(\"Kolmogorov-Smirnov test p-value:\", ks_p_value)\n",
    "    \n",
    "    # Check if more p-values fall below the significance threshold after batch correction\n",
    "    num_sig_before = np.sum(p_values_before < alpha)\n",
    "    num_sig_after = np.sum(p_values_after < alpha)\n",
    "    \n",
    "    print(\"Number of significant p-values before correction:\", num_sig_before)\n",
    "    print(\"Number of significant p-values after correction:\", num_sig_after)\n",
    "\n",
    "def see_distribution(p_values_before, p_values_after):\n",
    "\n",
    "    # Plot histograms of p-values before and after batch correction\n",
    "    plt.figure(figsize=(10, 5))\n",
    "    sns.histplot(p_values_before, bins=50, color='blue', kde=True, label='Before Correction')\n",
    "    sns.histplot(p_values_after, bins=50, color='green', kde=True, label='After Correction')\n",
    "    plt.axvline(alpha, color='red', linestyle='--', label='Significance Threshold')\n",
    "    plt.xlabel('p-value')\n",
    "    plt.ylabel('Density')\n",
    "    plt.title('Distribution of p-values before and after batch correction')\n",
    "    plt.legend()\n",
    "    plt.show()\n"
   ]
  },
  {
   "cell_type": "code",
   "execution_count": null,
   "id": "9d639784-463d-48a0-9566-6426594f3ce9",
   "metadata": {},
   "outputs": [],
   "source": [
    "def get_ks_values_before_after(data, data_corrected, experiment_1, experiment_2):\n",
    "    data_before = data.copy()\n",
    "    data_before = data_before.T\n",
    "    data_before.reset_index(drop=True, inplace=True)\n",
    "    \n",
    "    group_a_samples_before = data_before[cts['Experiment'] == experiment_1]\n",
    "    group_b_samples_before = data_before[cts['Experiment'] == experiment_2]\n",
    "    _, p_values_before = ttest_ind(group_a_samples_before, group_b_samples_before)\n",
    "    ks_stat_before, ks_p_value_before = ks_2samp(group_a_samples_before, group_b_samples_before)\n",
    "\n",
    "    data_corrected.reset_index(drop=True, inplace=True)\n",
    "\n",
    "    group_a_samples_corrected = data_corrected[cts['Experiment'] == experiment_1]\n",
    "    group_b_samples_corrected = data_corrected[cts['Experiment'] == experiment_2]\n",
    "    _, p_values_after = ttest_ind(group_a_samples_corrected, group_b_samples_corrected)\n",
    "    ks_stat_after, ks_p_value_after = ks_2samp(group_a_samples_corrected, group_b_samples_corrected)\n",
    "\n",
    "    return ks_p_value_before, ks_p_value_after\n",
    "\n",
    "\n"
   ]
  },
  {
   "cell_type": "code",
   "execution_count": null,
   "id": "1a25b55c-8168-4bf1-908f-e6045c9fd9b2",
   "metadata": {},
   "outputs": [],
   "source": [
    "def get_p_values_before_after(data, data_corrected, experiment_1, experiment_2):\n",
    "    data_before = data.copy()\n",
    "    data_before = data_before.T\n",
    "    data_before.reset_index(drop=True, inplace=True)\n",
    "    \n",
    "    group_a_samples_before = data_before[cts['Experiment'] == experiment_1]\n",
    "    group_b_samples_before = data_before[cts['Experiment'] == experiment_2]\n",
    "    _, p_values_before = ttest_ind(group_a_samples_before, group_b_samples_before)\n",
    "\n",
    "    data_corrected.reset_index(drop=True, inplace=True)\n",
    "\n",
    "    group_a_samples_corrected = data_corrected[cts['Experiment'] == experiment_1]\n",
    "    group_b_samples_corrected = data_corrected[cts['Experiment'] == experiment_2]\n",
    "    _, p_values_after = ttest_ind(group_a_samples_corrected, group_b_samples_corrected)\n",
    "\n",
    "    return p_values_before, p_values_after"
   ]
  },
  {
   "cell_type": "code",
   "execution_count": null,
   "id": "4c4548a0-f971-4180-8fe7-887e089add52",
   "metadata": {},
   "outputs": [],
   "source": [
    "experiment_list = experiments\n",
    "experiments"
   ]
  },
  {
   "cell_type": "code",
   "execution_count": null,
   "id": "2ef638e6-feb0-4ea8-839a-f365060bfff8",
   "metadata": {},
   "outputs": [],
   "source": [
    "experiment_1 = experiments[5]\n",
    "experiment_2 = experiments[1]"
   ]
  },
  {
   "cell_type": "code",
   "execution_count": null,
   "id": "67986b7c-60f3-443b-8889-7e684208a6ec",
   "metadata": {},
   "outputs": [],
   "source": [
    "cts_processed"
   ]
  },
  {
   "cell_type": "code",
   "execution_count": null,
   "id": "483746d0-a193-4bcc-9382-6796e3927063",
   "metadata": {},
   "outputs": [],
   "source": [
    "cts"
   ]
  },
  {
   "cell_type": "code",
   "execution_count": null,
   "id": "929d8502-4328-425e-b4d9-6915c752b403",
   "metadata": {},
   "outputs": [],
   "source": [
    "p_values_before, p_values_after = get_p_values_before_after(data, data_corrected, experiment_1, experiment_2)"
   ]
  },
  {
   "cell_type": "code",
   "execution_count": null,
   "id": "b77ae629-7f53-4098-afb3-ee6b87eaaea0",
   "metadata": {},
   "outputs": [],
   "source": [
    "p_values_before"
   ]
  },
  {
   "cell_type": "code",
   "execution_count": null,
   "id": "0f3aa7b3-5476-4edb-8059-2ca68993cc05",
   "metadata": {},
   "outputs": [],
   "source": [
    "p_values_after"
   ]
  },
  {
   "cell_type": "code",
   "execution_count": null,
   "id": "6fb72ac5-3f07-4ebd-a378-00edcb4cbbba",
   "metadata": {},
   "outputs": [],
   "source": [
    "plot_batch_correction_p_values(p_values_before, p_values_after, alpha = 0.05)\n"
   ]
  },
  {
   "cell_type": "code",
   "execution_count": null,
   "id": "52429203-91d7-41b2-a4f6-d93c2f043eee",
   "metadata": {},
   "outputs": [],
   "source": [
    "p_values_after"
   ]
  },
  {
   "cell_type": "markdown",
   "id": "6c235ea2-a34b-4e2d-a70d-a3459216def5",
   "metadata": {},
   "source": [
    "## Getting all the experiments p_values\n"
   ]
  },
  {
   "cell_type": "code",
   "execution_count": null,
   "id": "1833631f-5642-488a-ae97-527856952803",
   "metadata": {},
   "outputs": [],
   "source": [
    "import itertools\n"
   ]
  },
  {
   "cell_type": "code",
   "execution_count": null,
   "id": "a5de54df-5ab8-4767-9744-4f248567f343",
   "metadata": {},
   "outputs": [],
   "source": [
    "expriments_pvalue_before=[]\n",
    "expriments_pvalue_after=[]\n",
    "combination_list = []\n",
    "ks_stats =  []\n",
    "\n",
    "for experiment_1, experiment_2 in itertools.combinations(experiment_list, 2):\n",
    "    c = f\"{experiment_1}-{experiment_2}\"\n",
    "    combination_list.append(c)\n",
    "    print(c)\n",
    "    #print(\"get_p_values_before_after\")\n",
    "    p_values_before, p_values_after = get_p_values_before_after(cts_processed.T, data_corrected, experiment_1, experiment_2)\n",
    "    expriments_pvalue_before.append(p_values_before)\n",
    "    expriments_pvalue_after.append(p_values_after)\n",
    "    #print(\"ks_2samp\")\n",
    "    ks_stat, ks_p_value = ks_2samp(p_values_before, p_values_after)\n",
    "    ks_stats.append({\"combination\":f\"{experiment_1}-{experiment_2}\",\"ks_stat\":ks_stat, \"ks_pvalue\": ks_p_value})\n",
    "\n"
   ]
  },
  {
   "cell_type": "code",
   "execution_count": null,
   "id": "3edd6420-dfa6-484d-9da0-ee6b1b977fcc",
   "metadata": {},
   "outputs": [],
   "source": []
  },
  {
   "cell_type": "code",
   "execution_count": null,
   "id": "7b179cf7-47a4-46e2-9791-1c7e993a4f88",
   "metadata": {},
   "outputs": [],
   "source": [
    "# Convert lists to arrays\n",
    "expriments_pvalue_before_array = np.array(expriments_pvalue_before)\n",
    "expriments_pvalue_after_array = np.array(expriments_pvalue_after)\n",
    "\n",
    "# Calculate average and standard deviation for p-values before and after\n",
    "avg_p_values_before = np.mean(expriments_pvalue_before_array, axis=1)\n",
    "std_p_values_before = np.std(expriments_pvalue_before_array, axis=1)\n",
    "avg_p_values_after = np.mean(expriments_pvalue_after_array, axis=1)\n",
    "std_p_values_after = np.std(expriments_pvalue_after_array, axis=1)\n",
    "\n",
    "# Create DataFrame for KS test results\n",
    "ks_stats_df = pd.DataFrame(ks_stats)\n",
    "\n",
    "\n",
    "# Add columns for average and standard deviation of p-values before and after\n",
    "ks_stats_df[\"avg_p_values_before\"] = avg_p_values_before\n",
    "ks_stats_df[\"std_p_values_before\"] = std_p_values_before\n",
    "ks_stats_df[\"avg_p_values_after\"] = avg_p_values_after\n",
    "ks_stats_df[\"std_p_values_after\"] = std_p_values_after\n"
   ]
  },
  {
   "cell_type": "code",
   "execution_count": null,
   "id": "9d3fe590-d101-42c1-ab4e-672b2972b361",
   "metadata": {},
   "outputs": [],
   "source": [
    "ks_stats_df.drop(columns=[\"ks_stat\", \"ks_pvalue\"])"
   ]
  },
  {
   "cell_type": "code",
   "execution_count": null,
   "id": "f316ddab-3723-404d-8646-f86880cfed31",
   "metadata": {},
   "outputs": [],
   "source": [
    "ks_stats_df[ks_stats_df.isna().any(axis=1)]"
   ]
  },
  {
   "cell_type": "code",
   "execution_count": null,
   "id": "e609674d-bfb0-454e-a1f5-4ee624101254",
   "metadata": {},
   "outputs": [],
   "source": [
    "ks_stats_df.to_csv(f\"ttstat_difference_{technology}_experiments_before_after_recombat.csv\")"
   ]
  },
  {
   "cell_type": "markdown",
   "id": "7d9fa72a-0344-40c9-8f78-2ea604dcf6df",
   "metadata": {},
   "source": [
    "Heatmap the similarity of the experiments"
   ]
  },
  {
   "cell_type": "code",
   "execution_count": null,
   "id": "77d3d38d-b70e-4d09-ab4e-c05a3efd5532",
   "metadata": {},
   "outputs": [],
   "source": [
    "import seaborn as sns\n",
    "import matplotlib.pyplot as plt\n",
    "\n",
    "# Convert lists of p-values to a 2D NumPy array\n",
    "p_values_before_array = np.array(expriments_pvalue_before)\n",
    "p_values_after_array = np.array(expriments_pvalue_after)\n",
    "\n",
    "# Create a heatmap for p-values before batch correction\n",
    "plt.figure(figsize=(10, 6))\n",
    "sns.heatmap(p_values_before_array, cmap='coolwarm', annot=True, fmt=\".2f\", yticklabels=combination_list)\n",
    "plt.title('P-values Before Batch Correction')\n",
    "plt.xlabel('Genes')\n",
    "plt.ylabel('Experiment')\n",
    "plt.savefig(f\"/home/karen/Documents/phd/Plots/expression_distribution_{technology}_reCombatheatmap_before.png\")\n",
    "plt.show()\n",
    "\n",
    "# Create a heatmap for p-values after batch correction\n",
    "plt.figure(figsize=(10, 6))\n",
    "sns.heatmap(p_values_after_array, cmap='coolwarm', annot=True, fmt=\".2f\", yticklabels=combination_list)\n",
    "plt.title('P-values After Batch Correction')\n",
    "plt.xlabel('Genes')\n",
    "plt.ylabel('Experiment')\n",
    "plt.savefig(f\"/home/karen/Documents/phd/Plots/expression_distribution_{technology}_reCombatheatmap_after.png\")\n",
    "plt.show()"
   ]
  },
  {
   "cell_type": "markdown",
   "id": "57bd1d10-ae79-40f9-8e53-24038c085d9b",
   "metadata": {},
   "source": [
    "DE only in one experiment"
   ]
  },
  {
   "cell_type": "code",
   "execution_count": null,
   "id": "705eb73a-db4d-41e9-b5a0-e9c38b1b3e65",
   "metadata": {},
   "outputs": [],
   "source": [
    "import pandas as pd\n",
    "experiment=experiment_1\n",
    "\n",
    "def get_columns_to_keep_one(experiment):\n",
    "    # Path to the CSV file\n",
    "    file_path = f'/home/karen/Documents/phd/Data/Expression_data/Differential Expression/{experiment}_DDS.csv'\n",
    "    \n",
    "    # Read the CSV file\n",
    "    de_genes = pd.read_csv(file_path, index_col=0)\n",
    "    \n",
    "    # Filter rows based on condition\n",
    "    filtered_data = de_genes[(abs(de_genes['log2FoldChange']) > 1) & (de_genes['padj'] < 0.1)]\n",
    "    \n",
    "    # Extract column names from filtered data\n",
    "    columns_to_keep = filtered_data[\"row\"].str.strip().tolist()\n",
    "    return columns_to_keep\n",
    "\n",
    "# Assuming p_values_before is another DataFrame you want to filter columns from\n",
    "# Replace p_values_before with your DataFrame name\n",
    "#filtered_columns = p_values_before[columns_to_keep]\n",
    "\n",
    "# Now you can work with the filtered columns DataFrame as needed\n"
   ]
  },
  {
   "cell_type": "code",
   "execution_count": null,
   "id": "4b2c80e4-93f8-4c6a-b60f-2d806960a616",
   "metadata": {},
   "outputs": [],
   "source": [
    "if technology ==\"RNAseq\":\n",
    "    columns_to_keep = get_columns_to_keep_one(experiment)"
   ]
  },
  {
   "cell_type": "code",
   "execution_count": null,
   "id": "9354c67e-764b-4781-8535-b0c7fb46f12d",
   "metadata": {},
   "outputs": [],
   "source": [
    "if technology ==\"RNAseq\":\n",
    "    len(columns_to_keep)"
   ]
  },
  {
   "cell_type": "code",
   "execution_count": null,
   "id": "3ef2e461-ed1a-463b-938a-257cc311ee5e",
   "metadata": {},
   "outputs": [],
   "source": [
    "#filter_Bools = [(abs(de_genes['log2FoldChange']) > 1) & (de_genes['padj'] < 0.1)][0]"
   ]
  },
  {
   "cell_type": "code",
   "execution_count": null,
   "id": "d62f53c2-fba3-4355-9361-6d2f816c69d2",
   "metadata": {},
   "outputs": [],
   "source": [
    "#p_values_after[x]"
   ]
  },
  {
   "cell_type": "code",
   "execution_count": null,
   "id": "e6f2ac4a-3465-4acf-963b-4cbb8ba9d9a7",
   "metadata": {},
   "outputs": [],
   "source": [
    "if technology ==\"RNAseq\":\n",
    "\n",
    "    DE_data = data.copy()\n",
    "    DE_data_corrected = data_corrected.copy()\n",
    "    \n",
    "    DE_data= DE_data.T\n",
    "    DE_data = DE_data[columns_to_keep]\n",
    "    DE_data_corrected = DE_data_corrected[columns_to_keep]\n",
    "    DE_data= DE_data.T\n",
    "    \n",
    "    p_values_before, p_values_after = get_p_values_before_after(DE_data, DE_data_corrected, experiment_1, experiment_2)\n",
    "    plot_batch_correction_p_values(p_values_before, p_values_after, alpha = 0.05)\n"
   ]
  },
  {
   "cell_type": "code",
   "execution_count": null,
   "id": "b705cda8-440c-478c-b771-b86e6d6048c6",
   "metadata": {},
   "outputs": [],
   "source": [
    "if technology ==\"RNAseq\":\n",
    "    DE_data_corrected"
   ]
  },
  {
   "cell_type": "code",
   "execution_count": null,
   "id": "f2a5f6c8-3ac9-4c20-ad8f-30db8140b899",
   "metadata": {},
   "outputs": [],
   "source": [
    "if technology ==\"RNAseq\":\n",
    "    DE_data"
   ]
  },
  {
   "cell_type": "code",
   "execution_count": null,
   "id": "19b77566-3086-49da-a19f-fd2f2c3ec18a",
   "metadata": {},
   "outputs": [],
   "source": [
    "if technology ==\"RNAseq\":\n",
    "    DE_data.columns"
   ]
  },
  {
   "cell_type": "code",
   "execution_count": null,
   "id": "bbeecf35-d685-4294-9fe7-e74d134d2998",
   "metadata": {},
   "outputs": [],
   "source": [
    "if technology ==\"RNAseq\":\n",
    "\n",
    "    \n",
    "    data_before = data.copy()\n",
    "    data_before = data_before.T\n",
    "    \n",
    "    data_before.reset_index(drop=True, inplace=True)\n",
    "    \n",
    "    group_a_samples_before = data_before[cts['Experiment'] == experiment_1]\n",
    "    \n",
    "    group_b_samples_before = data_before[cts['Experiment'] == experiment_2]\n",
    "    group_a_samples_before.columns=data.index\n",
    "    group_b_samples_before.columns=data.index\n",
    "    group_a_samples_before = group_a_samples_before[columns_to_keep]\n",
    "    group_b_samples_before = group_b_samples_before[columns_to_keep]\n",
    "    _, p_values_before = ttest_ind(group_a_samples_before, group_b_samples_before)\n",
    "    \n",
    "    \n",
    "    data_corrected.reset_index(drop=True, inplace=True)\n",
    "    \n",
    "    group_a_samples_corrected = data_corrected[cts['Experiment'] == experiment_1]\n",
    "    group_b_samples_corrected = data_corrected[cts['Experiment'] == experiment_2]\n",
    "    \n",
    "    group_a_samples_corrected.columns=data.index\n",
    "    group_b_samples_corrected.columns=data.index\n",
    "    group_a_samples_corrected = group_a_samples_corrected[columns_to_keep]\n",
    "    group_b_samples_corrected = group_b_samples_corrected[columns_to_keep]\n",
    "    t_statistic, p_values_after = ttest_ind(group_a_samples_corrected, group_b_samples_corrected)\n",
    "    plot_batch_correction_p_values(p_values_before, p_values_after, alpha = 0.05)\n"
   ]
  },
  {
   "cell_type": "code",
   "execution_count": null,
   "id": "e2a31b66-84d5-4575-b4f6-16884f7a5243",
   "metadata": {},
   "outputs": [],
   "source": []
  },
  {
   "cell_type": "code",
   "execution_count": null,
   "id": "c891ea1d-6e4c-4399-95fb-22191f84a494",
   "metadata": {},
   "outputs": [],
   "source": [
    "import random\n",
    "if technology ==\"RNAseq\":\n",
    "    random_values = random.sample(de_genes[\"row\"].tolist(), len(columns_to_keep))\n"
   ]
  },
  {
   "cell_type": "code",
   "execution_count": null,
   "id": "f1629184-a7eb-42ab-a31e-bd9063acf2e2",
   "metadata": {},
   "outputs": [],
   "source": [
    "if technology ==\"RNAseq\":\n",
    "    \n",
    "    data_before = data.copy()\n",
    "    data_before = data_before.T\n",
    "    \n",
    "    data_before.reset_index(drop=True, inplace=True)\n",
    "    \n",
    "    group_a_samples_before = data_before[cts['Experiment'] == experiment_1]\n",
    "    \n",
    "    group_b_samples_before = data_before[cts['Experiment'] == experiment_2]\n",
    "    group_a_samples_before.columns=data.index\n",
    "    group_b_samples_before.columns=data.index\n",
    "    group_a_samples_before = group_a_samples_before[random_values]\n",
    "    group_b_samples_before = group_b_samples_before[random_values]\n",
    "    _, p_values_before = ttest_ind(group_a_samples_before, group_b_samples_before)\n",
    "    \n",
    "    \n",
    "    data_corrected.reset_index(drop=True, inplace=True)\n",
    "    \n",
    "    group_a_samples_corrected = data_corrected[cts['Experiment'] == experiment_1]\n",
    "    group_b_samples_corrected = data_corrected[cts['Experiment'] == experiment_2]\n",
    "    \n",
    "    group_a_samples_corrected.columns=data.index\n",
    "    group_b_samples_corrected.columns=data.index\n",
    "    group_a_samples_corrected = group_a_samples_corrected[random_values]\n",
    "    group_b_samples_corrected = group_b_samples_corrected[random_values]\n",
    "    t_statistic, p_values_after = ttest_ind(group_a_samples_corrected, group_b_samples_corrected)\n",
    "    plot_batch_correction_p_values(p_values_before, p_values_after, alpha = 0.05)"
   ]
  },
  {
   "cell_type": "code",
   "execution_count": null,
   "id": "bfb21f45-fd13-4b9a-a5dc-2151c178f400",
   "metadata": {},
   "outputs": [],
   "source": []
  },
  {
   "cell_type": "code",
   "execution_count": null,
   "id": "631a76b2-3262-43dd-97b1-ddc0f67f422b",
   "metadata": {},
   "outputs": [],
   "source": [
    "import pandas as pd\n",
    "if technology ==\"RNAseq\":\n",
    "    \n",
    "    # Path to the CSV file\n",
    "    file_path_1 = f'/home/karen/Documents/phd/Data/Expression_data/Differential Expression/{experiment_1}_DDS.csv'\n",
    "    file_path_2 = f'/home/karen/Documents/phd/Data/Expression_data/Differential Expression/{experiment_2}_DDS.csv'\n",
    "    \n",
    "    # Read the CSV file\n",
    "    de_genes_1 = pd.read_csv(file_path_1, index_col=0)\n",
    "    de_genes_2 = pd.read_csv(file_path_2, index_col=0)\n",
    "    \n",
    "    # Filter rows based on condition\n",
    "    filtered_data_1 = de_genes_1[(abs(de_genes_1['log2FoldChange']) > 1) & (de_genes_1['padj'] < 0.1)]\n",
    "    filtered_data_2 = de_genes_2[(abs(de_genes_2['log2FoldChange']) > 1) & (de_genes_2['padj'] < 0.1)]\n",
    "    \n",
    "    union_filter = pd.concat([filtered_data_1, filtered_data_2]).drop_duplicates()\n",
    "    intersection_filter = pd.merge(filtered_data_1, filtered_data_2, on='row', how='inner')\n",
    "    \n",
    "    # Extract column names from filtered data\n",
    "    union_keep = union_filter[\"row\"].str.strip().tolist()\n",
    "    intersection_keep = intersection_filter[\"row\"].str.strip().tolist()\n"
   ]
  },
  {
   "cell_type": "code",
   "execution_count": null,
   "id": "4dd6176c-769d-4303-8e33-595d7b9c90cf",
   "metadata": {},
   "outputs": [],
   "source": [
    "if technology ==\"RNAseq\":\n",
    "    \n",
    "    \n",
    "    data_before = data.copy()\n",
    "    data_before = data_before.T\n",
    "    \n",
    "    data_before.reset_index(drop=True, inplace=True)\n",
    "    \n",
    "    group_a_samples_before = data_before[cts['Experiment'] == experiment_1]\n",
    "    \n",
    "    group_b_samples_before = data_before[cts['Experiment'] == experiment_2]\n",
    "    group_a_samples_before.columns=data.index\n",
    "    group_b_samples_before.columns=data.index\n",
    "    group_a_samples_before = group_a_samples_before[intersection_keep]\n",
    "    group_b_samples_before = group_b_samples_before[intersection_keep]\n",
    "    _, p_values_before = ttest_ind(group_a_samples_before, group_b_samples_before)\n",
    "    \n",
    "    \n",
    "    data_corrected.reset_index(drop=True, inplace=True)\n",
    "    \n",
    "    group_a_samples_corrected = data_corrected[cts['Experiment'] == experiment_1]\n",
    "    group_b_samples_corrected = data_corrected[cts['Experiment'] == experiment_2]\n",
    "    \n",
    "    group_a_samples_corrected.columns=data.index\n",
    "    group_b_samples_corrected.columns=data.index\n",
    "    group_a_samples_corrected = group_a_samples_corrected[intersection_keep]\n",
    "    group_b_samples_corrected = group_b_samples_corrected[intersection_keep]\n",
    "    t_statistic, p_values_after = ttest_ind(group_a_samples_corrected, group_b_samples_corrected)\n",
    "    plot_batch_correction_p_values(p_values_before, p_values_after, alpha = 0.05)"
   ]
  },
  {
   "cell_type": "code",
   "execution_count": null,
   "id": "bc294f2e-ac14-4239-8895-950e09ace35c",
   "metadata": {},
   "outputs": [],
   "source": []
  },
  {
   "cell_type": "markdown",
   "id": "58f4307b-1aaa-46a4-81fd-19159ff45c0a",
   "metadata": {},
   "source": [
    "Checking the same experiment before and after"
   ]
  },
  {
   "cell_type": "code",
   "execution_count": null,
   "id": "75ec4363-c535-40b8-bea4-36426414e22d",
   "metadata": {},
   "outputs": [],
   "source": [
    "if technology ==\"RNAseq\":\n",
    "    \n",
    "    t_statistic, p_values_a = ttest_ind(group_a_samples_before, group_a_samples_corrected)\n",
    "    t_statistic, p_values_b = ttest_ind(group_b_samples_before, group_b_samples_corrected)\n",
    "    plot_batch_correction_p_values(p_values_a, p_values_b, alpha = 0.05)"
   ]
  },
  {
   "cell_type": "code",
   "execution_count": null,
   "id": "cdd85f91-f09c-4f4e-8cef-40fb40dc83d2",
   "metadata": {},
   "outputs": [],
   "source": []
  },
  {
   "cell_type": "markdown",
   "id": "a622451f-42be-40cc-8c4c-69ed7cce72f8",
   "metadata": {},
   "source": [
    "# Cluster data before and after"
   ]
  },
  {
   "cell_type": "code",
   "execution_count": 2,
   "id": "9702d027-899f-44d1-a38f-92d17bd67377",
   "metadata": {},
   "outputs": [
    {
     "ename": "NameError",
     "evalue": "name 'experiment_order' is not defined",
     "output_type": "error",
     "traceback": [
      "\u001b[0;31m---------------------------------------------------------------------------\u001b[0m",
      "\u001b[0;31mNameError\u001b[0m                                 Traceback (most recent call last)",
      "Cell \u001b[0;32mIn[2], line 2\u001b[0m\n\u001b[1;32m      1\u001b[0m metadata_short \u001b[38;5;241m=\u001b[39m  pd\u001b[38;5;241m.\u001b[39mDataFrame({\n\u001b[0;32m----> 2\u001b[0m     \u001b[38;5;124m'\u001b[39m\u001b[38;5;124mExperiment\u001b[39m\u001b[38;5;124m'\u001b[39m: \u001b[43mexperiment_order\u001b[49m,\n\u001b[1;32m      3\u001b[0m     \u001b[38;5;124m'\u001b[39m\u001b[38;5;124mAge\u001b[39m\u001b[38;5;124m'\u001b[39m: age_order,\n\u001b[1;32m      4\u001b[0m     \u001b[38;5;124m'\u001b[39m\u001b[38;5;124mSample\u001b[39m\u001b[38;5;124m'\u001b[39m: sample_order\n\u001b[1;32m      5\u001b[0m })\n\u001b[1;32m      6\u001b[0m metadata_short\u001b[38;5;241m.\u001b[39mset_index(\u001b[38;5;124m'\u001b[39m\u001b[38;5;124mSample\u001b[39m\u001b[38;5;124m'\u001b[39m, inplace\u001b[38;5;241m=\u001b[39m\u001b[38;5;28;01mTrue\u001b[39;00m)\n\u001b[1;32m      7\u001b[0m metadata_short\n",
      "\u001b[0;31mNameError\u001b[0m: name 'experiment_order' is not defined"
     ]
    }
   ],
   "source": [
    "metadata_short =  pd.DataFrame({\n",
    "    'Experiment': experiment_order,\n",
    "    'Age': age_order,\n",
    "    'Sample': sample_order\n",
    "})\n",
    "metadata_short.set_index('Sample', inplace=True)\n",
    "metadata_short"
   ]
  },
  {
   "cell_type": "code",
   "execution_count": 3,
   "id": "6fe93818-3b27-455e-9a44-f846ff1a0a95",
   "metadata": {},
   "outputs": [
    {
     "ename": "NameError",
     "evalue": "name 'cts' is not defined",
     "output_type": "error",
     "traceback": [
      "\u001b[0;31m---------------------------------------------------------------------------\u001b[0m",
      "\u001b[0;31mNameError\u001b[0m                                 Traceback (most recent call last)",
      "Cell \u001b[0;32mIn[3], line 1\u001b[0m\n\u001b[0;32m----> 1\u001b[0m data_corrected\u001b[38;5;241m.\u001b[39mindex \u001b[38;5;241m=\u001b[39m \u001b[43mcts\u001b[49m[\u001b[38;5;124m\"\u001b[39m\u001b[38;5;124mSample\u001b[39m\u001b[38;5;124m\"\u001b[39m]\n\u001b[1;32m      2\u001b[0m cts_processed\u001b[38;5;241m.\u001b[39mindex \u001b[38;5;241m=\u001b[39m cts[\u001b[38;5;124m\"\u001b[39m\u001b[38;5;124mSample\u001b[39m\u001b[38;5;124m\"\u001b[39m]\n",
      "\u001b[0;31mNameError\u001b[0m: name 'cts' is not defined"
     ]
    }
   ],
   "source": [
    "data_corrected.index = cts[\"Sample\"]\n",
    "cts_processed.index = cts[\"Sample\"]"
   ]
  },
  {
   "cell_type": "code",
   "execution_count": 4,
   "id": "94a5330e-2e68-4b37-b4ec-6e897ff1f830",
   "metadata": {},
   "outputs": [
    {
     "ename": "NameError",
     "evalue": "name 'data_corrected' is not defined",
     "output_type": "error",
     "traceback": [
      "\u001b[0;31m---------------------------------------------------------------------------\u001b[0m",
      "\u001b[0;31mNameError\u001b[0m                                 Traceback (most recent call last)",
      "Cell \u001b[0;32mIn[4], line 1\u001b[0m\n\u001b[0;32m----> 1\u001b[0m adjuested_data_full \u001b[38;5;241m=\u001b[39m pd\u001b[38;5;241m.\u001b[39mconcat([\u001b[43mdata_corrected\u001b[49m, metadata_short], axis\u001b[38;5;241m=\u001b[39m\u001b[38;5;241m1\u001b[39m)\n",
      "\u001b[0;31mNameError\u001b[0m: name 'data_corrected' is not defined"
     ]
    }
   ],
   "source": [
    "adjuested_data_full = pd.concat([data_corrected, metadata_short], axis=1)"
   ]
  },
  {
   "cell_type": "code",
   "execution_count": null,
   "id": "8f268c00-e27c-4493-89b4-240807d90fbb",
   "metadata": {},
   "outputs": [],
   "source": [
    "unadjested_data_full= pd.concat([cts_processed, metadata_short], axis=1)"
   ]
  },
  {
   "cell_type": "code",
   "execution_count": null,
   "id": "6a126b78-d5d2-4587-a89b-d96cb5405564",
   "metadata": {},
   "outputs": [],
   "source": [
    "adjuested_data_full.columns[10:]"
   ]
  },
  {
   "cell_type": "code",
   "execution_count": null,
   "id": "3245bb01-4442-4bbd-98fa-9725bbdc97e9",
   "metadata": {},
   "outputs": [],
   "source": [
    "cts_2 = cts.set_index(\"Sample\")\n",
    "cts_2"
   ]
  },
  {
   "cell_type": "code",
   "execution_count": null,
   "id": "7d87c326-70c4-4314-a0ef-a3da09d8ca64",
   "metadata": {},
   "outputs": [],
   "source": [
    "adjuested_data_full[\"Age\"]=cts_2[\"Age\"]\n",
    "\n",
    "adjuested_data_full"
   ]
  },
  {
   "cell_type": "code",
   "execution_count": null,
   "id": "2ec352d6-a42b-4c1e-866b-b1e21e3ae909",
   "metadata": {},
   "outputs": [],
   "source": [
    "adjuested_data_full.to_csv(f\"/home/karen/Documents/GitHub/Test_DEG_methods-single_cell/batch_correction/{technology}_abundances_adjusted_recombat.csv\")"
   ]
  },
  {
   "cell_type": "code",
   "execution_count": null,
   "id": "a25a24af-9681-42ca-8df7-25ad1c174cf8",
   "metadata": {},
   "outputs": [],
   "source": []
  },
  {
   "cell_type": "code",
   "execution_count": null,
   "id": "4b047ec8-8f87-4a2c-b69f-de06d531f24e",
   "metadata": {},
   "outputs": [],
   "source": [
    "unadjested_data_full.to_csv(f\"/home/karen/Documents/GitHub/Test_DEG_methods-single_cell/batch_correction/{technology}_All_abundances_unadjusted_2_recombat.csv\")"
   ]
  },
  {
   "cell_type": "markdown",
   "id": "4c625d2a-60eb-4110-bd8d-b24f8149af27",
   "metadata": {},
   "source": [
    "Looking at reCombat plotting"
   ]
  },
  {
   "cell_type": "code",
   "execution_count": 62,
   "id": "f114a6d0-82e7-40c6-8423-ad162aa196b5",
   "metadata": {},
   "outputs": [],
   "source": [
    "X = data_corrected.fillna(0, inplace=False).values "
   ]
  },
  {
   "cell_type": "code",
   "execution_count": 63,
   "id": "e2292f0c-a4e6-4550-9299-1ab5acb10ab7",
   "metadata": {},
   "outputs": [
    {
     "data": {
      "text/plain": [
       "array([[-0.01350724, -0.00861295, -0.01578158, ..., -0.00783757,\n",
       "        -0.00151509, -0.00905034],\n",
       "       [-0.02072736, -0.03676626,  0.00081709, ..., -0.03545925,\n",
       "         0.01904667, -0.03298978],\n",
       "       [-0.04798518, -0.06059653,  0.01975478, ..., -0.06814743,\n",
       "        -0.06737225, -0.06639159],\n",
       "       ...,\n",
       "       [ 0.02438693,  0.03418388,  0.01216161, ...,  0.03413554,\n",
       "         0.02983122,  0.03361508],\n",
       "       [ 0.03146234,  0.04077535,  0.01502427, ...,  0.04069432,\n",
       "         0.03691152,  0.04036432],\n",
       "       [ 0.02175596,  0.03141635,  0.00933563, ...,  0.0304994 ,\n",
       "         0.02131907,  0.03026787]])"
      ]
     },
     "execution_count": 63,
     "metadata": {},
     "output_type": "execute_result"
    }
   ],
   "source": [
    "X"
   ]
  },
  {
   "cell_type": "code",
   "execution_count": 64,
   "id": "e6b68521-294f-481d-b4de-b7b7ce360e72",
   "metadata": {},
   "outputs": [],
   "source": [
    "\n",
    "# Define a dictionary mapping categories to numerical values\n",
    "category_map = {category: i for i, category in enumerate(experiment_order)}\n",
    "if technology ==\"RNAseq\":\n",
    "    category_map = {'GSE164471': -1, 'GSE152558': 0, 'GSE157585': 1, 'GSE167186':2, \"GSE60590\":3, \"GSE129643\":4}\n",
    "elif technology == \"microarray\":\n",
    "    category_map = {'GSE13070':-6, 'GSE47969':-5, 'GSE48278':-4, 'GSE9103':-3, 'GSE59880':-2, 'GSE9676':-1, 'GSE161643':0, 'GSE8157':1, 'GSE1428':2, 'GSE38718':3, 'GSE6348':4, 'GSE40551':5, 'GSE87105':6, 'GSE674_2':7}\n",
    "# Assuming you have a list called experiment_order which contains the experiment names\n",
    "# Map the experiment names to numerical values\n",
    "numeric_experiment_order = [category_map[experiment] for experiment in experiment_order]\n",
    "\n",
    "from matplotlib.colors import ListedColormap\n",
    "tab20_colors = plt.cm.tab20.colors\n",
    "num_colors = len(np.unique(experiment_order))\n",
    "colors = [tab20_colors[i] for i in range(num_colors)]\n",
    "custom_cmap = ListedColormap(colors)\n"
   ]
  },
  {
   "cell_type": "code",
   "execution_count": 65,
   "id": "8c48b690-4d8f-49f3-ba8c-749de35350c7",
   "metadata": {},
   "outputs": [
    {
     "data": {
      "image/png": "[encoded data removed]",
      "text/html": [
       "<div style=\"vertical-align: middle;\"><strong>from_list</strong> </div><div class=\"cmap\"><img alt=\"from_list colormap\" title=\"from_list\" style=\"border: 1px solid #555;\" src=\"data:image/png;base64,iVBORw0KGgoAAAANSUhEUgAAAgAAAABACAYAAABsv8+/AAAAGHRFWHRUaXRsZQBmcm9tX2xpc3QgY29sb3JtYXBDL89FAAAAHnRFWHREZXNjcmlwdGlvbgBmcm9tX2xpc3QgY29sb3JtYXABtCnOAAAAMHRFWHRBdXRob3IATWF0cGxvdGxpYiB2My44LjAsIGh0dHBzOi8vbWF0cGxvdGxpYi5vcmefc/hPAAAAMnRFWHRTb2Z0d2FyZQBNYXRwbG90bGliIHYzLjguMCwgaHR0cHM6Ly9tYXRwbG90bGliLm9yZ7HVZ2gAAAFWSURBVHic7daxDUFRAEBRLKLT6ZQSK7CAAURvDMv8wkLmYAnxknfPmeCWd719LJ8VP/c8H0YnTOfy2o1OmM/xNrpgOvv3MjphOvfTdXTClDajAwCA/zMAABBkAAAgyAAAQJABAIAgAwAAQQYAAIIMAAAEGQAACDIAABBkAAAgyAAAQJABAIAgAwAAQQYAAIIMAAAEGQAACDIAABBkAAAgyAAAQJABAIAgAwAAQQYAAIIMAAAEGQAACDIAABBkAAAgyAAAQJABAIAgAwAAQQYAAIIMAAAEGQAACDIAABBkAAAgyAAAQJABAIAgAwAAQQYAAIIMAAAEGQAACDIAABBkAAAgyAAAQJABAIAgAwAAQQYAAIIMAAAEGQAACDIAABBkAAAgyAAAQJABAIAgAwAAQQYAAIIMAAAEGQAACDIAABBkAAAgyAAAQJABAIAgAwAAQQYAAIK+abcIgFaGDocAAAAASUVORK5CYII=\"></div><div style=\"vertical-align: middle; max-width: 514px; display: flex; justify-content: space-between;\"><div style=\"float: left;\"><div title=\"#1f77b4ff\" style=\"display: inline-block; width: 1em; height: 1em; margin: 0; vertical-align: middle; border: 1px solid #555; background-color: #1f77b4ff;\"></div> under</div><div style=\"margin: 0 auto; display: inline-block;\">bad <div title=\"#00000000\" style=\"display: inline-block; width: 1em; height: 1em; margin: 0; vertical-align: middle; border: 1px solid #555; background-color: #00000000;\"></div></div><div style=\"float: right;\">over <div title=\"#98df8aff\" style=\"display: inline-block; width: 1em; height: 1em; margin: 0; vertical-align: middle; border: 1px solid #555; background-color: #98df8aff;\"></div></div>"
      ],
      "text/plain": [
       "<matplotlib.colors.ListedColormap at 0x7f7a492fc210>"
      ]
     },
     "execution_count": 65,
     "metadata": {},
     "output_type": "execute_result"
    }
   ],
   "source": [
    "custom_cmap"
   ]
  },
  {
   "cell_type": "markdown",
   "id": "772f3e25-4245-469e-82fb-4b110c5e24a3",
   "metadata": {},
   "source": [
    "Using tSNE\n"
   ]
  },
  {
   "cell_type": "code",
   "execution_count": 66,
   "id": "4581a5fc-51e4-4bc7-9652-4c4060007299",
   "metadata": {},
   "outputs": [],
   "source": [
    "from sklearn.manifold import TSNE\n",
    "X = data_corrected.values \n",
    "tSNE=TSNE(n_components=2)\n",
    "tSNE_result=tSNE.fit_transform(X)\n",
    "# Step 3: Visualize the clusters\n",
    "# Plot the first two principal components and color them according to the assigned clusters\n",
    "x=tSNE_result[:,0]\n",
    "y=tSNE_result[:,1]"
   ]
  },
  {
   "cell_type": "code",
   "execution_count": 67,
   "id": "2e3d6487-4962-4234-a0e3-59e6345cdf52",
   "metadata": {},
   "outputs": [
    {
     "data": {
      "image/png": "[encoded data removed]",
      "text/plain": [
       "<Figure size 800x600 with 1 Axes>"
      ]
     },
     "metadata": {},
     "output_type": "display_data"
    }
   ],
   "source": [
    "\n",
    "plt.figure(figsize=(8, 6))\n",
    "plt.scatter(x,y, c=numeric_experiment_order, cmap=custom_cmap, s=50, alpha=0.5)\n",
    "plt.title('TSNE Adjusted')\n",
    "#plt.colorbar(label=\"Experiment\", spacing =\"uniform\",  values=numeric_experiment_order)\n",
    "\n",
    "# Create legend with experiment names\n",
    "legend_handles = [plt.Line2D([0], [0], marker='o',  markerfacecolor=color, markersize=10, label=f'Experiment {i+1}') for i, color in enumerate(colors)]\n",
    "plt.legend(handles=legend_handles, labels=list(category_map.keys()), loc='best')\n",
    "\n",
    "#plt.legend(list(category_map.keys()))\n",
    "#plt.show()\n",
    "save=f\"/home/karen/Documents/phd/Plots/TSNE_Scatter_Plot_Experiment_{technology}_reCombat_by_experiment_new_norm.png\"\n",
    "plt.savefig(save)"
   ]
  },
  {
   "cell_type": "markdown",
   "id": "41f02f3b-0884-4fa8-8147-2755210ea4d7",
   "metadata": {},
   "source": [
    "Using PCA"
   ]
  },
  {
   "cell_type": "code",
   "execution_count": null,
   "id": "d022046b-d389-44e7-b521-77332197251a",
   "metadata": {},
   "outputs": [],
   "source": [
    "\n",
    "# Step 3: Visualize the clusters\n",
    "# Plot the first two principal components and color them according to the assigned clusters\n",
    "plt.figure(figsize=(8, 6))\n",
    "plt.scatter(X[:, 0], X[:, 1], c=numeric_experiment_order, cmap=custom_cmap, s=50, alpha=0.5)\n",
    "plt.title('PCA adjusted')\n",
    "plt.xlabel('Principal Component 1')\n",
    "plt.ylabel('Principal Component 2')\n",
    "#plt.colorbar(label=\"Experiment\", spacing =\"uniform\",  values=numeric_experiment_order)\n",
    "\n",
    "\n",
    "# Create legend with experiment names\n",
    "legend_handles = [plt.Line2D([0], [0], marker='o',  markerfacecolor=color, markersize=10, label=f'Experiment {i+1}') for i, color in enumerate(colors)]\n",
    "plt.legend(handles=legend_handles, labels=list(category_map.keys()), loc='best')\n",
    "\n",
    "#plt.legend(list(category_map.keys()))\n",
    "#plt.show()\n",
    "save=f\"/home/karen/Documents/phd/Plots/PCA_Scatter_Plot_Experiment_{technology}_reCombat_by_experiment.png\"\n",
    "plt.savefig(save)"
   ]
  },
  {
   "cell_type": "markdown",
   "id": "852df744-2e41-4db7-b60a-d839393fb96e",
   "metadata": {},
   "source": [
    "Lookign at the age"
   ]
  },
  {
   "cell_type": "code",
   "execution_count": 68,
   "id": "383091c0-dbd6-4d1c-b82c-eebda15a5631",
   "metadata": {},
   "outputs": [],
   "source": [
    "\n",
    "\n",
    "\n",
    "# Define a dictionary mapping categories to numerical values\n",
    "category_map = {category: i for i, category in enumerate(age_order)}\n",
    "category_map = {'Young': -1,  'MiddleAge': 0, 'Old': 1}\n",
    "# Assuming you have a list called experiment_order which contains the experiment names\n",
    "# Map the experiment names to numerical values\n",
    "numeric_age_order = [category_map[experiment] for experiment in age_order]\n",
    "tab20_colors = plt.cm.tab10.colors\n",
    "num_colors = len(np.unique(age_order))\n",
    "colors = [tab20_colors[i] for i in range(num_colors)]\n",
    "custom_cmap = ListedColormap(colors)\n"
   ]
  },
  {
   "cell_type": "code",
   "execution_count": null,
   "id": "0c4602fe-a302-4fec-8490-3bbc533dcbbf",
   "metadata": {},
   "outputs": [],
   "source": [
    "pd.DataFrame(age_order).value_counts()"
   ]
  },
  {
   "cell_type": "code",
   "execution_count": null,
   "id": "acdb4353-f376-4cd0-bafb-7f83a1959b3b",
   "metadata": {},
   "outputs": [],
   "source": [
    "custom_cmap"
   ]
  },
  {
   "cell_type": "markdown",
   "id": "e708876d-1f13-46f6-84c6-c837882d396a",
   "metadata": {},
   "source": [
    "tSNE"
   ]
  },
  {
   "cell_type": "code",
   "execution_count": 69,
   "id": "438672e8-7c36-4536-a250-57ffd3d3f5c6",
   "metadata": {},
   "outputs": [
    {
     "data": {
      "image/png": "[encoded data removed]",
      "text/plain": [
       "<Figure size 800x600 with 1 Axes>"
      ]
     },
     "metadata": {},
     "output_type": "display_data"
    }
   ],
   "source": [
    "\n",
    "plt.figure(figsize=(8, 6))\n",
    "plt.scatter(x,y, c=numeric_age_order, cmap=custom_cmap, s=50, alpha=0.5)\n",
    "plt.title('TSNE adjusted')\n",
    "\n",
    "# Create legend with experiment names\n",
    "legend_handles = [plt.Line2D([0], [0], marker='o',  markerfacecolor=color, markersize=10, label=f'Experiment {i+1}') for i, color in enumerate(colors)]\n",
    "plt.legend(handles=legend_handles, labels=list(category_map.keys()), loc='best')\n",
    "\n",
    "#plt.legend(list(category_map.keys()))\n",
    "#plt.show()\n",
    "save=f\"/home/karen/Documents/phd/Plots/TSNE_Scatter_Plot_Experiment_{technology}_reCombat_by_age.png\"\n",
    "plt.savefig(save)\n",
    "#plt.savefig(\"TSNE_Scatter_Plot_Age_reCombat.jpg\")"
   ]
  },
  {
   "cell_type": "markdown",
   "id": "e3d0cc61-fc27-419e-8987-8180ced9851d",
   "metadata": {},
   "source": [
    "PCA"
   ]
  },
  {
   "cell_type": "code",
   "execution_count": null,
   "id": "a6cb3131-c48f-4de6-bdb4-76e3236d1d77",
   "metadata": {},
   "outputs": [],
   "source": [
    "\n",
    "# Step 3: Visualize the clusters\n",
    "# Plot the first two principal components and color them according to the assigned clusters\n",
    "plt.figure(figsize=(8, 6))\n",
    "plt.scatter(X[:, 0], X[:, 1], c=numeric_age_order, cmap=custom_cmap, s=50, alpha=0.5)\n",
    "plt.title('PCA adjusted')\n",
    "plt.xlabel('Principal Component 1')\n",
    "plt.ylabel('Principal Component 2')\n",
    "#plt.colorbar(label=\"Experiment\", spacing =\"uniform\",  values=numeric_experiment_order)\n",
    "\n",
    "\n",
    "# Create legend with experiment names\n",
    "legend_handles = [plt.Line2D([0], [0], marker='o',  markerfacecolor=color, markersize=10, label=f'Experiment {i+1}') for i, color in enumerate(colors)]\n",
    "plt.legend(handles=legend_handles, labels=list(category_map.keys()), loc='best')\n",
    "\n",
    "#plt.legend(list(category_map.keys()))\n",
    "#plt.show()\n",
    "save=f\"/home/karen/Documents/phd/Plots/PCA_Scatter_Plot_Experiment_{technology}_reCombat_by_age.png\"\n",
    "plt.savefig(save)\n",
    "# plt.savefig(\"PCA_Scatter_Plot_Age_reCombat.jpg\")"
   ]
  },
  {
   "cell_type": "markdown",
   "id": "395cfb00-06ca-4831-bc1f-4dd70c6da63d",
   "metadata": {},
   "source": [
    "# Unadjusted"
   ]
  },
  {
   "cell_type": "code",
   "execution_count": null,
   "id": "be25d5f8-c463-4130-b84b-83fcea91df36",
   "metadata": {},
   "outputs": [],
   "source": [
    "X = cts_processed.values \n"
   ]
  },
  {
   "cell_type": "markdown",
   "id": "0e868bd8-6574-4fa4-902f-7107c8b02b05",
   "metadata": {},
   "source": [
    "tSNE by experiment"
   ]
  },
  {
   "cell_type": "code",
   "execution_count": null,
   "id": "cac3e7dc-eab8-4e6a-8118-94f08ba2db93",
   "metadata": {},
   "outputs": [],
   "source": [
    "\n",
    "tSNE=TSNE(n_components=2)\n",
    "tSNE_result=tSNE.fit_transform(X)\n",
    "# Step 3: Visualize the clusters\n",
    "# Plot the first two principal components and color them according to the assigned clusters\n",
    "x=tSNE_result[:,0]\n",
    "y=tSNE_result[:,1]"
   ]
  },
  {
   "cell_type": "code",
   "execution_count": null,
   "id": "42ae5793-7dbb-4e66-8d82-6d47af74ec4b",
   "metadata": {},
   "outputs": [],
   "source": [
    "# Define a dictionary mapping categories to numerical values\n",
    "category_map = {category: i for i, category in enumerate(experiment_order)}\n",
    "if technology ==\"RNAseq\":\n",
    "    category_map = {'GSE164471': -1, 'GSE152558': 0, 'GSE157585': 1, 'GSE167186':2, \"GSE60590\":3, \"GSE129643\":4}\n",
    "elif technology == \"microarray\":\n",
    "    category_map = {'GSE13070':-6, 'GSE47969':-5, 'GSE48278':-4, 'GSE9103':-3, 'GSE59880':-2, 'GSE9676':-1, 'GSE161643':0, 'GSE8157':1, 'GSE1428':2, 'GSE38718':3, 'GSE6348':4, 'GSE40551':5, 'GSE87105':6, 'GSE674_2':7}\n",
    "# Assuming you have a list called experiment_order which contains the experiment names\n",
    "# Map the experiment names to numerical values\n",
    "numeric_experiment_order = [category_map[experiment] for experiment in experiment_order]\n",
    "\n",
    "from matplotlib.colors import ListedColormap\n",
    "tab20_colors = plt.cm.tab20.colors\n",
    "num_colors = len(np.unique(experiment_order))\n",
    "colors = [tab20_colors[i ] for i in range(num_colors)]\n",
    "custom_cmap = ListedColormap(colors)"
   ]
  },
  {
   "cell_type": "code",
   "execution_count": null,
   "id": "406ff99d-db5f-4cbe-bffa-407529d98785",
   "metadata": {},
   "outputs": [],
   "source": [
    "\n",
    "plt.figure(figsize=(8, 6))\n",
    "plt.scatter(x,y, c=numeric_experiment_order, cmap=custom_cmap, s=50, alpha=0.5)\n",
    "plt.title('TSNE Original')\n",
    "#plt.colorbar(label=\"Experiment\", spacing =\"uniform\",  values=numeric_experiment_order)\n",
    "\n",
    "# Create legend with experiment names\n",
    "legend_handles = [plt.Line2D([0], [0], marker='o',  markerfacecolor=color, markersize=10, label=f'Experiment {i+1}') for i, color in enumerate(colors)]\n",
    "plt.legend(handles=legend_handles, labels=list(category_map.keys()), loc='best')\n",
    "\n",
    "#plt.legend(list(category_map.keys()))\n",
    "#plt.show()\n",
    "save=f\"/home/karen/Documents/phd/Plots/TSNE_Scatter_Plot_Experiment_{technology}_Original_by_experiment_reCombat_new_norm.png\"\n",
    "plt.savefig(save)\n",
    "#plt.savefig(\"TSNE_Scatter_Plot_Experiment_Original.jpg\")"
   ]
  },
  {
   "cell_type": "markdown",
   "id": "59a6b0b1-d456-4e04-9113-c9eaea09b83d",
   "metadata": {},
   "source": [
    "PCA by experiment original"
   ]
  },
  {
   "cell_type": "code",
   "execution_count": null,
   "id": "393a21a9-fc6d-42b9-830b-9ca06bbb9165",
   "metadata": {},
   "outputs": [],
   "source": [
    "\n",
    "# Step 3: Visualize the clusters\n",
    "# Plot the first two principal components and color them according to the assigned clusters\n",
    "plt.figure(figsize=(8, 6))\n",
    "plt.scatter(X[:, 0], X[:, 1], c=numeric_experiment_order, cmap=custom_cmap, s=50, alpha=0.5)\n",
    "plt.title('PCA Original')\n",
    "plt.xlabel('Principal Component 1')\n",
    "plt.ylabel('Principal Component 2')\n",
    "#plt.colorbar(label=\"Experiment\", spacing =\"uniform\",  values=numeric_experiment_order)\n",
    "\n",
    "\n",
    "# Create legend with experiment names\n",
    "legend_handles = [plt.Line2D([0], [0], marker='o',  markerfacecolor=color, markersize=10, label=f'Experiment {i+1}') for i, color in enumerate(colors)]\n",
    "plt.legend(handles=legend_handles, labels=list(category_map.keys()), loc='best')\n",
    "\n",
    "#plt.legend(list(category_map.keys()))\n",
    "#plt.show()\n",
    "save=f\"/home/karen/Documents/phd/Plots/PCA_Scatter_Plot_Experiment_{technology}_Original_by_experiment_reCombat.png\"\n",
    "plt.savefig(save)\n",
    "#plt.savefig(\"PCA_Scatter_Plot_Experiment_Original.jpg\")"
   ]
  },
  {
   "cell_type": "markdown",
   "id": "d2d708af-cf49-4a62-a361-a4dd16794e6b",
   "metadata": {},
   "source": [
    "By age"
   ]
  },
  {
   "cell_type": "code",
   "execution_count": null,
   "id": "704b949b-fa8a-4b9e-b9d6-0a8305479ee9",
   "metadata": {},
   "outputs": [],
   "source": [
    "\n",
    "# Define a dictionary mapping categories to numerical values\n",
    "category_map = {category: i for i, category in enumerate(age_order)}\n",
    "category_map = {'Young': -1,  'MiddleAge': 0, 'Old': 1}\n",
    "# Assuming you have a list called experiment_order which contains the experiment names\n",
    "# Map the experiment names to numerical values\n",
    "numeric_age_order = [category_map[experiment] for experiment in age_order]\n",
    "tab20_colors = plt.cm.tab10.colors\n",
    "num_colors = len(np.unique(age_order))\n",
    "colors = [tab20_colors[i % 20] for i in range(num_colors)]\n",
    "custom_cmap = ListedColormap(colors)"
   ]
  },
  {
   "cell_type": "markdown",
   "id": "12c90656-e5a4-421d-a43c-9bb28e84c8a1",
   "metadata": {},
   "source": [
    "TSNE by age"
   ]
  },
  {
   "cell_type": "code",
   "execution_count": null,
   "id": "58563211-ccb2-4da5-900f-179ee6d79ffb",
   "metadata": {},
   "outputs": [],
   "source": [
    "\n",
    "\n",
    "# Step 3: Visualize the clusters\n",
    "# Plot the first two principal components and color them according to the assigned clusters\n",
    "plt.figure(figsize=(8, 6))\n",
    "plt.scatter(x,y, c=numeric_age_order, cmap=custom_cmap, s=50, alpha=0.5)\n",
    "plt.title('TSNE Original by age')\n",
    "plt.xlabel('Principal Component 1')\n",
    "plt.ylabel('Principal Component 2')\n",
    "#plt.colorbar(label=\"Experiment\", spacing =\"uniform\",  values=numeric_experiment_order)\n",
    "\n",
    "\n",
    "# Create legend with experiment names\n",
    "legend_handles = [plt.Line2D([0], [0], marker='o',  markerfacecolor=color, markersize=10, label=f'Experiment {i+1}') for i, color in enumerate(colors)]\n",
    "plt.legend(handles=legend_handles, labels=list(category_map.keys()), loc='best')\n",
    "\n",
    "#plt.legend(list(category_map.keys()))\n",
    "#plt.show()\n",
    "save=f\"/home/karen/Documents/phd/Plots/TSNE_Scatter_Plot_Experiment_{technology}_Original_by_age_reCombat.png\"\n",
    "plt.savefig(save)\n",
    "#plt.savefig(\"TSNE_Scatter_Plot_Age_Original.jpg\")"
   ]
  },
  {
   "cell_type": "markdown",
   "id": "f134f220-4271-4729-bdae-439215a44ae7",
   "metadata": {},
   "source": [
    "PCA by age original"
   ]
  },
  {
   "cell_type": "markdown",
   "id": "c4443d3e-db14-4f45-b8c4-613a10969f39",
   "metadata": {},
   "source": []
  },
  {
   "cell_type": "code",
   "execution_count": null,
   "id": "845c9e75-3c47-4c66-872c-e4fd8ca8b240",
   "metadata": {},
   "outputs": [],
   "source": [
    "plt.figure(figsize=(8, 6))\n",
    "plt.scatter(X[:, 0], X[:, 1], c=numeric_age_order, cmap=custom_cmap, s=50, alpha=0.5)\n",
    "plt.title('PCA Orignal by age')\n",
    "plt.xlabel('Principal Component 1')\n",
    "plt.ylabel('Principal Component 2')\n",
    "#plt.colorbar(label=\"Experiment\", spacing =\"uniform\",  values=numeric_experiment_order)\n",
    "\n",
    "\n",
    "# Create legend with experiment names\n",
    "legend_handles = [plt.Line2D([0], [0], marker='o',  markerfacecolor=color, markersize=10, label=f'Experiment {i+1}') for i, color in enumerate(colors)]\n",
    "plt.legend(handles=legend_handles, labels=list(category_map.keys()), loc='best')\n",
    "\n",
    "#plt.legend(list(category_map.keys()))\n",
    "#plt.show()\n",
    "save=f\"/home/karen/Documents/phd/Plots/PCA_Scatter_Plot_Experiment_{technology}_Original_by_age_reCombat.png\"\n",
    "plt.savefig(save)\n",
    "#plt.savefig(\"PCA_Scatter_Plot_Age_Original.jpg\")"
   ]
  },
  {
   "cell_type": "markdown",
   "id": "bb7bc2ec-cb3b-4825-bbdf-bdefacc08a59",
   "metadata": {},
   "source": [
    "UMAP"
   ]
  },
  {
   "cell_type": "code",
   "execution_count": null,
   "id": "2f7a82b0-6a42-4c6d-aa5e-8096037241d0",
   "metadata": {},
   "outputs": [],
   "source": []
  },
  {
   "cell_type": "code",
   "execution_count": null,
   "id": "40de12b8-5e62-4fa5-9edc-60faa319da90",
   "metadata": {},
   "outputs": [],
   "source": []
  },
  {
   "cell_type": "code",
   "execution_count": null,
   "id": "c3d52f96-dcb7-469b-adb0-a98e6bd66d48",
   "metadata": {},
   "outputs": [],
   "source": []
  },
  {
   "cell_type": "code",
   "execution_count": null,
   "id": "086a0b94-0e5b-4a6d-aa1d-7265353a3dd5",
   "metadata": {},
   "outputs": [],
   "source": []
  },
  {
   "cell_type": "code",
   "execution_count": null,
   "id": "6dc83115-ffe9-47aa-9c5d-bd7a8abc5169",
   "metadata": {},
   "outputs": [],
   "source": []
  }
 ],
 "metadata": {
  "kernelspec": {
   "display_name": "Python 3 (ipykernel)",
   "language": "python",
   "name": "python3"
  },
  "language_info": {
   "codemirror_mode": {
    "name": "ipython",
    "version": 3
   },
   "file_extension": ".py",
   "mimetype": "text/x-python",
   "name": "python",
   "nbconvert_exporter": "python",
   "pygments_lexer": "ipython3",
   "version": "3.11.7"
  }
 },
 "nbformat": 4,
 "nbformat_minor": 5
}
